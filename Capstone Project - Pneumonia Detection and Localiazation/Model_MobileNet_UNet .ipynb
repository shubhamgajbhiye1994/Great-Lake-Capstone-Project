{
 "cells": [
  {
   "cell_type": "markdown",
   "metadata": {},
   "source": [
    "## Tensorflow GPU environment on Google Colab"
   ]
  },
  {
   "cell_type": "code",
   "execution_count": 1,
   "metadata": {
    "colab": {},
    "colab_type": "code",
    "id": "Crcy03ihfLtF"
   },
   "outputs": [],
   "source": [
    "import tensorflow as tf\n",
    "\n",
    "physical_devices = tf.config.list_physical_devices('GPU')\n",
    "try:\n",
    "  tf.config.experimental.set_memory_growth(physical_devices[0], True)\n",
    "except:\n",
    "  # Invalid device or cannot modify virtual devices once initialized.\n",
    "  pass\n",
    "  \n"
   ]
  },
  {
   "cell_type": "code",
   "execution_count": 2,
   "metadata": {
    "colab": {
     "base_uri": "https://localhost:8080/",
     "height": 122
    },
    "colab_type": "code",
    "id": "BDbKn9BcbRzx",
    "outputId": "888271ad-bce7-47f0-e955-3b7b7be2350c"
   },
   "outputs": [
    {
     "name": "stdout",
     "output_type": "stream",
     "text": [
      "Collecting pydicom\n",
      "\u001b[?25l  Downloading https://files.pythonhosted.org/packages/d3/56/342e1f8ce5afe63bf65c23d0b2c1cd5a05600caad1c211c39725d3a4cc56/pydicom-2.0.0-py3-none-any.whl (35.4MB)\n",
      "\u001b[K     |████████████████████████████████| 35.5MB 99kB/s \n",
      "\u001b[?25hInstalling collected packages: pydicom\n",
      "Successfully installed pydicom-2.0.0\n"
     ]
    }
   ],
   "source": [
    "!pip install pydicom"
   ]
  },
  {
   "cell_type": "markdown",
   "metadata": {},
   "source": [
    "## Import Libraries"
   ]
  },
  {
   "cell_type": "code",
   "execution_count": 3,
   "metadata": {
    "colab": {},
    "colab_type": "code",
    "id": "1_vrWggOWKgQ"
   },
   "outputs": [],
   "source": [
    "import os\n",
    "import pandas as pd\n",
    "import numpy as np\n",
    "import matplotlib.pyplot as plt\n",
    "%matplotlib inline\n",
    "import math\n",
    "import random\n",
    "import pydicom as dicom\n",
    "import json\n",
    "import cv2\n",
    "import h5py\n",
    "import glob \n",
    "from tqdm import tqdm\n",
    "from pathlib import Path\n",
    "\n",
    "import tensorflow as tf\n",
    "from tensorflow import keras\n",
    "from tensorflow.keras.utils import Sequence\n",
    "from tensorflow.keras.applications.mobilenet import preprocess_input\n",
    "from tensorflow.keras.applications.mobilenet import MobileNet\n",
    "from tensorflow.keras.layers import Concatenate, UpSampling2D, Conv2D, Reshape\n",
    "from tensorflow.keras.models import Model\n",
    "from tensorflow.keras.losses import binary_crossentropy\n",
    "from tensorflow.keras.backend import log, epsilon\n",
    "from tensorflow.keras.optimizers import Adam\n",
    "from tensorflow.keras.callbacks import ModelCheckpoint, EarlyStopping, ReduceLROnPlateau\n",
    "\n",
    "from skimage.measure import label, regionprops, regionprops_table"
   ]
  },
  {
   "cell_type": "code",
   "execution_count": 4,
   "metadata": {
    "colab": {
     "base_uri": "https://localhost:8080/",
     "height": 122
    },
    "colab_type": "code",
    "id": "FbIuJJwtLTc1",
    "outputId": "ce91d667-6638-4a12-c3e3-ac4ca262188e"
   },
   "outputs": [
    {
     "name": "stdout",
     "output_type": "stream",
     "text": [
      "Go to this URL in a browser: https://accounts.google.com/o/oauth2/auth?client_id=947318989803-6bn6qk8qdgf4n4g3pfee6491hc0brc4i.apps.googleusercontent.com&redirect_uri=urn%3aietf%3awg%3aoauth%3a2.0%3aoob&response_type=code&scope=email%20https%3a%2f%2fwww.googleapis.com%2fauth%2fdocs.test%20https%3a%2f%2fwww.googleapis.com%2fauth%2fdrive%20https%3a%2f%2fwww.googleapis.com%2fauth%2fdrive.photos.readonly%20https%3a%2f%2fwww.googleapis.com%2fauth%2fpeopleapi.readonly\n",
      "\n",
      "Enter your authorization code:\n",
      "··········\n",
      "Mounted at /content/drive\n"
     ]
    }
   ],
   "source": [
    "from google.colab import drive\n",
    "drive.mount('/content/drive')"
   ]
  },
  {
   "cell_type": "code",
   "execution_count": 5,
   "metadata": {
    "colab": {},
    "colab_type": "code",
    "id": "TpuDBwuYLyl_"
   },
   "outputs": [],
   "source": [
    "os.chdir('/content/drive/My Drive/')"
   ]
  },
  {
   "cell_type": "markdown",
   "metadata": {},
   "source": [
    "## Read JSON file containing data "
   ]
  },
  {
   "cell_type": "code",
   "execution_count": 6,
   "metadata": {
    "colab": {},
    "colab_type": "code",
    "id": "ySv_kF6kfhh5"
   },
   "outputs": [],
   "source": [
    "# Read JSON\n",
    "\n",
    "with open ('data.json','r') as read_file:\n",
    "    JasonData = json.load(read_file)"
   ]
  },
  {
   "cell_type": "code",
   "execution_count": 7,
   "metadata": {
    "colab": {
     "base_uri": "https://localhost:8080/",
     "height": 85
    },
    "colab_type": "code",
    "id": "qNZBotcqfhiA",
    "outputId": "a2738925-8ea4-4c5b-c9dd-4cf53ceb5bc5"
   },
   "outputs": [
    {
     "name": "stdout",
     "output_type": "stream",
     "text": [
      "26684\n"
     ]
    },
    {
     "data": {
      "text/plain": [
       "array([['0004cfab-14fd-4e49-80ba-63a80b6bddd6',\n",
       "        {'dicom': 'stage_2_train_images/0004cfab-14fd-4e49-80ba-63a80b6bddd6.dcm', 'label': 0, 'boxes': []}]],\n",
       "      dtype=object)"
      ]
     },
     "execution_count": 7,
     "metadata": {
      "tags": []
     },
     "output_type": "execute_result"
    }
   ],
   "source": [
    "# Convert into numpy array\n",
    "JasonData_list = np.array(list(JasonData.items()))\n",
    "print(len(JasonData_list))\n",
    "JasonData_list[:1]"
   ]
  },
  {
   "cell_type": "markdown",
   "metadata": {},
   "source": [
    "## Split Data into Train, Test and Validation"
   ]
  },
  {
   "cell_type": "code",
   "execution_count": 8,
   "metadata": {
    "colab": {
     "base_uri": "https://localhost:8080/",
     "height": 68
    },
    "colab_type": "code",
    "id": "LwruacxEfhiI",
    "outputId": "dcab99fd-fb58-46fa-b6fe-5ec613fc126c"
   },
   "outputs": [
    {
     "name": "stdout",
     "output_type": "stream",
     "text": [
      "(16300, 2)\n",
      "(6986, 2)\n",
      "(3398, 2)\n"
     ]
    }
   ],
   "source": [
    "data = JasonData_list[:26684]\n",
    "random.shuffle(data)\n",
    "train_val = data[:23286]\n",
    "X_test = data[23286:]\n",
    "X_train = train_val[:16300]\n",
    "X_val=train_val[16300:]\n",
    "print(X_train.shape)\n",
    "print(X_val.shape)\n",
    "print(X_test.shape)"
   ]
  },
  {
   "cell_type": "markdown",
   "metadata": {},
   "source": [
    "## Set Model Parameters"
   ]
  },
  {
   "cell_type": "code",
   "execution_count": 9,
   "metadata": {
    "colab": {},
    "colab_type": "code",
    "id": "R8_I7vMXfhix"
   },
   "outputs": [],
   "source": [
    "#Image size for model input\n",
    "IMAGE_WIDTH=128\n",
    "IMAGE_HEIGHT=128\n",
    "\n",
    "#original image dimensions\n",
    "imageWidth=1024\n",
    "imageHeight=1024\n",
    "\n",
    "ALPHA = 1\n",
    "EPOCHS = 10\n",
    "BATCH_SIZE=24"
   ]
  },
  {
   "cell_type": "markdown",
   "metadata": {},
   "source": [
    "## Create Data Generator "
   ]
  },
  {
   "cell_type": "code",
   "execution_count": null,
   "metadata": {
    "colab": {},
    "colab_type": "code",
    "id": "fyWCdgSBpQeb"
   },
   "outputs": [],
   "source": [
    "class DataGenerator(Sequence):\n",
    "    \n",
    "    def __init__(self, dataset, batch_size=24, shuffle=True, predict=False):        \n",
    "        self.dataset = dataset\n",
    "        self.batch_size=batch_size\n",
    "        self.shuffle=shuffle\n",
    "        self.predict=predict\n",
    "        self.on_epoch_end()\n",
    "    \n",
    "    def __len__(self):         \n",
    "        return math.ceil(len(self.dataset)/self.batch_size)    \n",
    "       \n",
    "    def __getitem__(self, index):   \n",
    "        \n",
    "        indexes = self.indexes[index*self.batch_size:(index+1)*self.batch_size]\n",
    "        \n",
    "        image_batch = [self.dataset[i][1]['dicom'] for i in indexes]\n",
    "        bbox_batch = [self.dataset[i][1]['boxes'] for i in indexes]\n",
    "        \n",
    "        X = self.__generate_X(image_batch)\n",
    "        if self.predict:\n",
    "            return X\n",
    "        else:\n",
    "            masks = self.__generate_masks(bbox_batch)\n",
    "            return X, masks\n",
    "        \n",
    "    def __generate_X(self, image_batch): \n",
    "        \n",
    "        X = np.zeros((len(image_batch), IMAGE_WIDTH, IMAGE_HEIGHT,3), dtype=np.float32)\n",
    "        for k, image_path in enumerate(image_batch):\n",
    "            img = dicom.read_file(image_path).pixel_array\n",
    "            img = cv2.resize(img, dsize=(IMAGE_HEIGHT, IMAGE_WIDTH), interpolation=cv2.INTER_CUBIC)\n",
    "            img = np.stack((img,)*3, axis=-1)\n",
    "            X[k] = preprocess_input(np.array(img, dtype=np.float32))\n",
    "        return X\n",
    "                \n",
    "    def __generate_masks(self, bbox_batch):        \n",
    "        \n",
    "        masks = np.zeros((len(bbox_batch), IMAGE_WIDTH, IMAGE_HEIGHT))\n",
    "        width_factor = IMAGE_WIDTH/imageWidth\n",
    "        height_factor = IMAGE_HEIGHT/imageHeight\n",
    "        \n",
    "        for k, bbox_items in enumerate(bbox_batch):\n",
    "            if len(bbox_items) > 0:\n",
    "                for idx, val in enumerate(bbox_items):\n",
    "                    x1 = round(val[0]* width_factor)\n",
    "                    x2 = round((val[0]+val[2])* width_factor)\n",
    "                    y1 = round(val[1]*height_factor)  \n",
    "                    y2 = round((val[1]+val[3])*height_factor)\n",
    "                    masks[k][y1:y2, x1:x2]=1                    \n",
    "            else:\n",
    "                masks[k][:,:]=0                \n",
    "        return masks\n",
    "                   \n",
    "    def on_epoch_end(self):  \n",
    "        self.indexes = np.arange(len(self.dataset))      \n",
    "        if self.shuffle == True:\n",
    "            np.random.shuffle(self.indexes) \n",
    "     "
   ]
  },
  {
   "cell_type": "markdown",
   "metadata": {},
   "source": [
    "## Create Model"
   ]
  },
  {
   "cell_type": "code",
   "execution_count": 11,
   "metadata": {
    "colab": {},
    "colab_type": "code",
    "id": "Hppi1plzfhjJ"
   },
   "outputs": [],
   "source": [
    "def create_model(trainable=True):\n",
    "    \n",
    "    model = MobileNet(input_shape=(IMAGE_HEIGHT, IMAGE_WIDTH, 3), include_top=False, alpha=ALPHA, weights=None)\n",
    "    model.load_weights('mobilenet_1_0_128_tf_no_top.h5')\n",
    "    \n",
    "    for layer in model.layers:\n",
    "        layer.trainable = trainable\n",
    "        \n",
    "    block1 = model.get_layer(\"conv_pw_1_relu\").output\n",
    "    block2 = model.get_layer(\"conv_pw_3_relu\").output\n",
    "    block3 = model.get_layer(\"conv_pw_5_relu\").output\n",
    "    block4 = model.get_layer(\"conv_pw_11_relu\").output\n",
    "    block5 = model.get_layer(\"conv_pw_13_relu\").output\n",
    "    \n",
    "    x = Concatenate()([UpSampling2D()(block5), block4])\n",
    "    x = Concatenate()([UpSampling2D()(x), block3])\n",
    "    x = Concatenate()([UpSampling2D()(x), block2])\n",
    "    x = Concatenate()([UpSampling2D()(x), block1])\n",
    "    x = UpSampling2D()(x)\n",
    "    \n",
    "    x = Conv2D(1, kernel_size=1, activation='sigmoid')(x)\n",
    "    x = Reshape((IMAGE_HEIGHT, IMAGE_WIDTH))(x)\n",
    "    \n",
    "    return Model(inputs=model.input, outputs=x)"
   ]
  },
  {
   "cell_type": "markdown",
   "metadata": {},
   "source": [
    "## Define Loss and Dice coefficient"
   ]
  },
  {
   "cell_type": "code",
   "execution_count": 12,
   "metadata": {
    "colab": {},
    "colab_type": "code",
    "id": "BOo8hbWufhjY"
   },
   "outputs": [],
   "source": [
    "def loss(y_true, y_pred):\n",
    "    return binary_crossentropy(y_true, y_pred) - log(dice_coefficient(y_true, y_pred) + epsilon())"
   ]
  },
  {
   "cell_type": "code",
   "execution_count": 13,
   "metadata": {
    "colab": {},
    "colab_type": "code",
    "id": "41OiF_zvfhjS"
   },
   "outputs": [],
   "source": [
    "def dice_coefficient(y_true, y_pred):\n",
    "    \n",
    "    numerator = 2 * tf.reduce_sum(y_true * y_pred)\n",
    "    denominator = tf.reduce_sum(y_true + y_pred)\n",
    "\n",
    "    return numerator / (denominator + tf.keras.backend.epsilon())"
   ]
  },
  {
   "cell_type": "markdown",
   "metadata": {},
   "source": [
    "## Compile and fit the model "
   ]
  },
  {
   "cell_type": "code",
   "execution_count": 14,
   "metadata": {
    "colab": {
     "base_uri": "https://localhost:8080/",
     "height": 1000
    },
    "colab_type": "code",
    "id": "6Lnq4jea6K9q",
    "outputId": "31271768-d835-4927-a9e4-ad029a3e6248"
   },
   "outputs": [
    {
     "name": "stdout",
     "output_type": "stream",
     "text": [
      "INFO:tensorflow:Using MirroredStrategy with devices ('/job:localhost/replica:0/task:0/device:GPU:0',)\n",
      "INFO:tensorflow:Reduce to /job:localhost/replica:0/task:0/device:CPU:0 then broadcast to ('/job:localhost/replica:0/task:0/device:CPU:0',).\n",
      "INFO:tensorflow:Reduce to /job:localhost/replica:0/task:0/device:CPU:0 then broadcast to ('/job:localhost/replica:0/task:0/device:CPU:0',).\n",
      "INFO:tensorflow:Reduce to /job:localhost/replica:0/task:0/device:CPU:0 then broadcast to ('/job:localhost/replica:0/task:0/device:CPU:0',).\n",
      "INFO:tensorflow:Reduce to /job:localhost/replica:0/task:0/device:CPU:0 then broadcast to ('/job:localhost/replica:0/task:0/device:CPU:0',).\n",
      "INFO:tensorflow:Reduce to /job:localhost/replica:0/task:0/device:CPU:0 then broadcast to ('/job:localhost/replica:0/task:0/device:CPU:0',).\n",
      "INFO:tensorflow:Reduce to /job:localhost/replica:0/task:0/device:CPU:0 then broadcast to ('/job:localhost/replica:0/task:0/device:CPU:0',).\n",
      "INFO:tensorflow:Reduce to /job:localhost/replica:0/task:0/device:CPU:0 then broadcast to ('/job:localhost/replica:0/task:0/device:CPU:0',).\n",
      "INFO:tensorflow:Reduce to /job:localhost/replica:0/task:0/device:CPU:0 then broadcast to ('/job:localhost/replica:0/task:0/device:CPU:0',).\n",
      "INFO:tensorflow:Reduce to /job:localhost/replica:0/task:0/device:CPU:0 then broadcast to ('/job:localhost/replica:0/task:0/device:CPU:0',).\n",
      "INFO:tensorflow:Reduce to /job:localhost/replica:0/task:0/device:CPU:0 then broadcast to ('/job:localhost/replica:0/task:0/device:CPU:0',).\n",
      "Model: \"model\"\n",
      "__________________________________________________________________________________________________\n",
      "Layer (type)                    Output Shape         Param #     Connected to                     \n",
      "==================================================================================================\n",
      "input_1 (InputLayer)            [(None, 128, 128, 3) 0                                            \n",
      "__________________________________________________________________________________________________\n",
      "conv1_pad (ZeroPadding2D)       (None, 129, 129, 3)  0           input_1[0][0]                    \n",
      "__________________________________________________________________________________________________\n",
      "conv1 (Conv2D)                  (None, 64, 64, 32)   864         conv1_pad[0][0]                  \n",
      "__________________________________________________________________________________________________\n",
      "conv1_bn (BatchNormalization)   (None, 64, 64, 32)   128         conv1[0][0]                      \n",
      "__________________________________________________________________________________________________\n",
      "conv1_relu (ReLU)               (None, 64, 64, 32)   0           conv1_bn[0][0]                   \n",
      "__________________________________________________________________________________________________\n",
      "conv_dw_1 (DepthwiseConv2D)     (None, 64, 64, 32)   288         conv1_relu[0][0]                 \n",
      "__________________________________________________________________________________________________\n",
      "conv_dw_1_bn (BatchNormalizatio (None, 64, 64, 32)   128         conv_dw_1[0][0]                  \n",
      "__________________________________________________________________________________________________\n",
      "conv_dw_1_relu (ReLU)           (None, 64, 64, 32)   0           conv_dw_1_bn[0][0]               \n",
      "__________________________________________________________________________________________________\n",
      "conv_pw_1 (Conv2D)              (None, 64, 64, 64)   2048        conv_dw_1_relu[0][0]             \n",
      "__________________________________________________________________________________________________\n",
      "conv_pw_1_bn (BatchNormalizatio (None, 64, 64, 64)   256         conv_pw_1[0][0]                  \n",
      "__________________________________________________________________________________________________\n",
      "conv_pw_1_relu (ReLU)           (None, 64, 64, 64)   0           conv_pw_1_bn[0][0]               \n",
      "__________________________________________________________________________________________________\n",
      "conv_pad_2 (ZeroPadding2D)      (None, 65, 65, 64)   0           conv_pw_1_relu[0][0]             \n",
      "__________________________________________________________________________________________________\n",
      "conv_dw_2 (DepthwiseConv2D)     (None, 32, 32, 64)   576         conv_pad_2[0][0]                 \n",
      "__________________________________________________________________________________________________\n",
      "conv_dw_2_bn (BatchNormalizatio (None, 32, 32, 64)   256         conv_dw_2[0][0]                  \n",
      "__________________________________________________________________________________________________\n",
      "conv_dw_2_relu (ReLU)           (None, 32, 32, 64)   0           conv_dw_2_bn[0][0]               \n",
      "__________________________________________________________________________________________________\n",
      "conv_pw_2 (Conv2D)              (None, 32, 32, 128)  8192        conv_dw_2_relu[0][0]             \n",
      "__________________________________________________________________________________________________\n",
      "conv_pw_2_bn (BatchNormalizatio (None, 32, 32, 128)  512         conv_pw_2[0][0]                  \n",
      "__________________________________________________________________________________________________\n",
      "conv_pw_2_relu (ReLU)           (None, 32, 32, 128)  0           conv_pw_2_bn[0][0]               \n",
      "__________________________________________________________________________________________________\n",
      "conv_dw_3 (DepthwiseConv2D)     (None, 32, 32, 128)  1152        conv_pw_2_relu[0][0]             \n",
      "__________________________________________________________________________________________________\n",
      "conv_dw_3_bn (BatchNormalizatio (None, 32, 32, 128)  512         conv_dw_3[0][0]                  \n",
      "__________________________________________________________________________________________________\n",
      "conv_dw_3_relu (ReLU)           (None, 32, 32, 128)  0           conv_dw_3_bn[0][0]               \n",
      "__________________________________________________________________________________________________\n",
      "conv_pw_3 (Conv2D)              (None, 32, 32, 128)  16384       conv_dw_3_relu[0][0]             \n",
      "__________________________________________________________________________________________________\n",
      "conv_pw_3_bn (BatchNormalizatio (None, 32, 32, 128)  512         conv_pw_3[0][0]                  \n",
      "__________________________________________________________________________________________________\n",
      "conv_pw_3_relu (ReLU)           (None, 32, 32, 128)  0           conv_pw_3_bn[0][0]               \n",
      "__________________________________________________________________________________________________\n",
      "conv_pad_4 (ZeroPadding2D)      (None, 33, 33, 128)  0           conv_pw_3_relu[0][0]             \n",
      "__________________________________________________________________________________________________\n",
      "conv_dw_4 (DepthwiseConv2D)     (None, 16, 16, 128)  1152        conv_pad_4[0][0]                 \n",
      "__________________________________________________________________________________________________\n",
      "conv_dw_4_bn (BatchNormalizatio (None, 16, 16, 128)  512         conv_dw_4[0][0]                  \n",
      "__________________________________________________________________________________________________\n",
      "conv_dw_4_relu (ReLU)           (None, 16, 16, 128)  0           conv_dw_4_bn[0][0]               \n",
      "__________________________________________________________________________________________________\n",
      "conv_pw_4 (Conv2D)              (None, 16, 16, 256)  32768       conv_dw_4_relu[0][0]             \n",
      "__________________________________________________________________________________________________\n",
      "conv_pw_4_bn (BatchNormalizatio (None, 16, 16, 256)  1024        conv_pw_4[0][0]                  \n",
      "__________________________________________________________________________________________________\n",
      "conv_pw_4_relu (ReLU)           (None, 16, 16, 256)  0           conv_pw_4_bn[0][0]               \n",
      "__________________________________________________________________________________________________\n",
      "conv_dw_5 (DepthwiseConv2D)     (None, 16, 16, 256)  2304        conv_pw_4_relu[0][0]             \n",
      "__________________________________________________________________________________________________\n",
      "conv_dw_5_bn (BatchNormalizatio (None, 16, 16, 256)  1024        conv_dw_5[0][0]                  \n",
      "__________________________________________________________________________________________________\n",
      "conv_dw_5_relu (ReLU)           (None, 16, 16, 256)  0           conv_dw_5_bn[0][0]               \n",
      "__________________________________________________________________________________________________\n",
      "conv_pw_5 (Conv2D)              (None, 16, 16, 256)  65536       conv_dw_5_relu[0][0]             \n",
      "__________________________________________________________________________________________________\n",
      "conv_pw_5_bn (BatchNormalizatio (None, 16, 16, 256)  1024        conv_pw_5[0][0]                  \n",
      "__________________________________________________________________________________________________\n",
      "conv_pw_5_relu (ReLU)           (None, 16, 16, 256)  0           conv_pw_5_bn[0][0]               \n",
      "__________________________________________________________________________________________________\n",
      "conv_pad_6 (ZeroPadding2D)      (None, 17, 17, 256)  0           conv_pw_5_relu[0][0]             \n",
      "__________________________________________________________________________________________________\n",
      "conv_dw_6 (DepthwiseConv2D)     (None, 8, 8, 256)    2304        conv_pad_6[0][0]                 \n",
      "__________________________________________________________________________________________________\n",
      "conv_dw_6_bn (BatchNormalizatio (None, 8, 8, 256)    1024        conv_dw_6[0][0]                  \n",
      "__________________________________________________________________________________________________\n",
      "conv_dw_6_relu (ReLU)           (None, 8, 8, 256)    0           conv_dw_6_bn[0][0]               \n",
      "__________________________________________________________________________________________________\n",
      "conv_pw_6 (Conv2D)              (None, 8, 8, 512)    131072      conv_dw_6_relu[0][0]             \n",
      "__________________________________________________________________________________________________\n",
      "conv_pw_6_bn (BatchNormalizatio (None, 8, 8, 512)    2048        conv_pw_6[0][0]                  \n",
      "__________________________________________________________________________________________________\n",
      "conv_pw_6_relu (ReLU)           (None, 8, 8, 512)    0           conv_pw_6_bn[0][0]               \n",
      "__________________________________________________________________________________________________\n",
      "conv_dw_7 (DepthwiseConv2D)     (None, 8, 8, 512)    4608        conv_pw_6_relu[0][0]             \n",
      "__________________________________________________________________________________________________\n",
      "conv_dw_7_bn (BatchNormalizatio (None, 8, 8, 512)    2048        conv_dw_7[0][0]                  \n",
      "__________________________________________________________________________________________________\n",
      "conv_dw_7_relu (ReLU)           (None, 8, 8, 512)    0           conv_dw_7_bn[0][0]               \n",
      "__________________________________________________________________________________________________\n",
      "conv_pw_7 (Conv2D)              (None, 8, 8, 512)    262144      conv_dw_7_relu[0][0]             \n",
      "__________________________________________________________________________________________________\n",
      "conv_pw_7_bn (BatchNormalizatio (None, 8, 8, 512)    2048        conv_pw_7[0][0]                  \n",
      "__________________________________________________________________________________________________\n",
      "conv_pw_7_relu (ReLU)           (None, 8, 8, 512)    0           conv_pw_7_bn[0][0]               \n",
      "__________________________________________________________________________________________________\n",
      "conv_dw_8 (DepthwiseConv2D)     (None, 8, 8, 512)    4608        conv_pw_7_relu[0][0]             \n",
      "__________________________________________________________________________________________________\n",
      "conv_dw_8_bn (BatchNormalizatio (None, 8, 8, 512)    2048        conv_dw_8[0][0]                  \n",
      "__________________________________________________________________________________________________\n",
      "conv_dw_8_relu (ReLU)           (None, 8, 8, 512)    0           conv_dw_8_bn[0][0]               \n",
      "__________________________________________________________________________________________________\n",
      "conv_pw_8 (Conv2D)              (None, 8, 8, 512)    262144      conv_dw_8_relu[0][0]             \n",
      "__________________________________________________________________________________________________\n",
      "conv_pw_8_bn (BatchNormalizatio (None, 8, 8, 512)    2048        conv_pw_8[0][0]                  \n",
      "__________________________________________________________________________________________________\n",
      "conv_pw_8_relu (ReLU)           (None, 8, 8, 512)    0           conv_pw_8_bn[0][0]               \n",
      "__________________________________________________________________________________________________\n",
      "conv_dw_9 (DepthwiseConv2D)     (None, 8, 8, 512)    4608        conv_pw_8_relu[0][0]             \n",
      "__________________________________________________________________________________________________\n",
      "conv_dw_9_bn (BatchNormalizatio (None, 8, 8, 512)    2048        conv_dw_9[0][0]                  \n",
      "__________________________________________________________________________________________________\n",
      "conv_dw_9_relu (ReLU)           (None, 8, 8, 512)    0           conv_dw_9_bn[0][0]               \n",
      "__________________________________________________________________________________________________\n",
      "conv_pw_9 (Conv2D)              (None, 8, 8, 512)    262144      conv_dw_9_relu[0][0]             \n",
      "__________________________________________________________________________________________________\n",
      "conv_pw_9_bn (BatchNormalizatio (None, 8, 8, 512)    2048        conv_pw_9[0][0]                  \n",
      "__________________________________________________________________________________________________\n",
      "conv_pw_9_relu (ReLU)           (None, 8, 8, 512)    0           conv_pw_9_bn[0][0]               \n",
      "__________________________________________________________________________________________________\n",
      "conv_dw_10 (DepthwiseConv2D)    (None, 8, 8, 512)    4608        conv_pw_9_relu[0][0]             \n",
      "__________________________________________________________________________________________________\n",
      "conv_dw_10_bn (BatchNormalizati (None, 8, 8, 512)    2048        conv_dw_10[0][0]                 \n",
      "__________________________________________________________________________________________________\n",
      "conv_dw_10_relu (ReLU)          (None, 8, 8, 512)    0           conv_dw_10_bn[0][0]              \n",
      "__________________________________________________________________________________________________\n",
      "conv_pw_10 (Conv2D)             (None, 8, 8, 512)    262144      conv_dw_10_relu[0][0]            \n",
      "__________________________________________________________________________________________________\n",
      "conv_pw_10_bn (BatchNormalizati (None, 8, 8, 512)    2048        conv_pw_10[0][0]                 \n",
      "__________________________________________________________________________________________________\n",
      "conv_pw_10_relu (ReLU)          (None, 8, 8, 512)    0           conv_pw_10_bn[0][0]              \n",
      "__________________________________________________________________________________________________\n",
      "conv_dw_11 (DepthwiseConv2D)    (None, 8, 8, 512)    4608        conv_pw_10_relu[0][0]            \n",
      "__________________________________________________________________________________________________\n",
      "conv_dw_11_bn (BatchNormalizati (None, 8, 8, 512)    2048        conv_dw_11[0][0]                 \n",
      "__________________________________________________________________________________________________\n",
      "conv_dw_11_relu (ReLU)          (None, 8, 8, 512)    0           conv_dw_11_bn[0][0]              \n",
      "__________________________________________________________________________________________________\n",
      "conv_pw_11 (Conv2D)             (None, 8, 8, 512)    262144      conv_dw_11_relu[0][0]            \n",
      "__________________________________________________________________________________________________\n",
      "conv_pw_11_bn (BatchNormalizati (None, 8, 8, 512)    2048        conv_pw_11[0][0]                 \n",
      "__________________________________________________________________________________________________\n",
      "conv_pw_11_relu (ReLU)          (None, 8, 8, 512)    0           conv_pw_11_bn[0][0]              \n",
      "__________________________________________________________________________________________________\n",
      "conv_pad_12 (ZeroPadding2D)     (None, 9, 9, 512)    0           conv_pw_11_relu[0][0]            \n",
      "__________________________________________________________________________________________________\n",
      "conv_dw_12 (DepthwiseConv2D)    (None, 4, 4, 512)    4608        conv_pad_12[0][0]                \n",
      "__________________________________________________________________________________________________\n",
      "conv_dw_12_bn (BatchNormalizati (None, 4, 4, 512)    2048        conv_dw_12[0][0]                 \n",
      "__________________________________________________________________________________________________\n",
      "conv_dw_12_relu (ReLU)          (None, 4, 4, 512)    0           conv_dw_12_bn[0][0]              \n",
      "__________________________________________________________________________________________________\n",
      "conv_pw_12 (Conv2D)             (None, 4, 4, 1024)   524288      conv_dw_12_relu[0][0]            \n",
      "__________________________________________________________________________________________________\n",
      "conv_pw_12_bn (BatchNormalizati (None, 4, 4, 1024)   4096        conv_pw_12[0][0]                 \n",
      "__________________________________________________________________________________________________\n",
      "conv_pw_12_relu (ReLU)          (None, 4, 4, 1024)   0           conv_pw_12_bn[0][0]              \n",
      "__________________________________________________________________________________________________\n",
      "conv_dw_13 (DepthwiseConv2D)    (None, 4, 4, 1024)   9216        conv_pw_12_relu[0][0]            \n",
      "__________________________________________________________________________________________________\n",
      "conv_dw_13_bn (BatchNormalizati (None, 4, 4, 1024)   4096        conv_dw_13[0][0]                 \n",
      "__________________________________________________________________________________________________\n",
      "conv_dw_13_relu (ReLU)          (None, 4, 4, 1024)   0           conv_dw_13_bn[0][0]              \n",
      "__________________________________________________________________________________________________\n",
      "conv_pw_13 (Conv2D)             (None, 4, 4, 1024)   1048576     conv_dw_13_relu[0][0]            \n",
      "__________________________________________________________________________________________________\n",
      "conv_pw_13_bn (BatchNormalizati (None, 4, 4, 1024)   4096        conv_pw_13[0][0]                 \n",
      "__________________________________________________________________________________________________\n",
      "conv_pw_13_relu (ReLU)          (None, 4, 4, 1024)   0           conv_pw_13_bn[0][0]              \n",
      "__________________________________________________________________________________________________\n",
      "up_sampling2d (UpSampling2D)    (None, 8, 8, 1024)   0           conv_pw_13_relu[0][0]            \n",
      "__________________________________________________________________________________________________\n",
      "concatenate (Concatenate)       (None, 8, 8, 1536)   0           up_sampling2d[0][0]              \n",
      "                                                                 conv_pw_11_relu[0][0]            \n",
      "__________________________________________________________________________________________________\n",
      "up_sampling2d_1 (UpSampling2D)  (None, 16, 16, 1536) 0           concatenate[0][0]                \n",
      "__________________________________________________________________________________________________\n",
      "concatenate_1 (Concatenate)     (None, 16, 16, 1792) 0           up_sampling2d_1[0][0]            \n",
      "                                                                 conv_pw_5_relu[0][0]             \n",
      "__________________________________________________________________________________________________\n",
      "up_sampling2d_2 (UpSampling2D)  (None, 32, 32, 1792) 0           concatenate_1[0][0]              \n",
      "__________________________________________________________________________________________________\n",
      "concatenate_2 (Concatenate)     (None, 32, 32, 1920) 0           up_sampling2d_2[0][0]            \n",
      "                                                                 conv_pw_3_relu[0][0]             \n",
      "__________________________________________________________________________________________________\n",
      "up_sampling2d_3 (UpSampling2D)  (None, 64, 64, 1920) 0           concatenate_2[0][0]              \n",
      "__________________________________________________________________________________________________\n",
      "concatenate_3 (Concatenate)     (None, 64, 64, 1984) 0           up_sampling2d_3[0][0]            \n",
      "                                                                 conv_pw_1_relu[0][0]             \n",
      "__________________________________________________________________________________________________\n",
      "up_sampling2d_4 (UpSampling2D)  (None, 128, 128, 198 0           concatenate_3[0][0]              \n",
      "__________________________________________________________________________________________________\n",
      "conv2d (Conv2D)                 (None, 128, 128, 1)  1985        up_sampling2d_4[0][0]            \n",
      "__________________________________________________________________________________________________\n",
      "reshape (Reshape)               (None, 128, 128)     0           conv2d[0][0]                     \n",
      "==================================================================================================\n",
      "Total params: 3,230,849\n",
      "Trainable params: 3,208,961\n",
      "Non-trainable params: 21,888\n",
      "__________________________________________________________________________________________________\n",
      "WARNING:tensorflow:`period` argument is deprecated. Please use `save_freq` to specify the frequency in number of batches seen.\n"
     ]
    }
   ],
   "source": [
    "mirrored_strategy = tf.distribute.MirroredStrategy()\n",
    "with mirrored_strategy.scope():\n",
    "\n",
    "  model = create_model()\n",
    "  model.summary()\n",
    "\n",
    "  optimizer = Adam(lr = 0.001)\n",
    "  model.compile(loss=loss, optimizer=optimizer, metrics=[dice_coefficient])\n",
    "\n",
    "  checkpoint = ModelCheckpoint(\"model-{loss:.2f}.h5\", monitor=\"val_loss\", verbose=1, save_best_only=True,\n",
    "                             save_weights_only=True, mode=\"min\", period=1)\n",
    "  stop = EarlyStopping(monitor=\"val_loss\", patience=10, mode=\"min\")\n",
    "  reduce_lr = ReduceLROnPlateau(monitor=\"val_loss\", factor=0.1, patience=3, min_lr=1e-6, verbose=1, mode=\"min\")\n",
    "  "
   ]
  },
  {
   "cell_type": "code",
   "execution_count": 15,
   "metadata": {
    "colab": {},
    "colab_type": "code",
    "id": "81w1CDX_s587"
   },
   "outputs": [],
   "source": [
    "train_gen = DataGenerator(X_train, batch_size=24, shuffle=True, predict=False)\n",
    "val_gen= DataGenerator(X_val, batch_size=24, shuffle=False, predict=False)"
   ]
  },
  {
   "cell_type": "code",
   "execution_count": 18,
   "metadata": {
    "colab": {
     "base_uri": "https://localhost:8080/",
     "height": 1000
    },
    "colab_type": "code",
    "id": "hE_pn8NKOJEP",
    "outputId": "7c6750d0-6681-4b71-8f34-55434d7ff455"
   },
   "outputs": [
    {
     "name": "stdout",
     "output_type": "stream",
     "text": [
      "Epoch 1/30\n",
      "680/680 [==============================] - ETA: 0s - dice_coefficient: 0.4351 - loss: 1.0798\n",
      "Epoch 00001: val_loss improved from inf to 1.16248, saving model to model-1.08.h5\n",
      "680/680 [==============================] - 951s 1s/step - dice_coefficient: 0.4351 - loss: 1.0798 - val_dice_coefficient: 0.4285 - val_loss: 1.1625 - lr: 0.0010\n",
      "Epoch 2/30\n",
      "680/680 [==============================] - ETA: 0s - dice_coefficient: 0.5107 - loss: 0.8682\n",
      "Epoch 00002: val_loss improved from 1.16248 to 1.01364, saving model to model-0.87.h5\n",
      "680/680 [==============================] - 212s 311ms/step - dice_coefficient: 0.5107 - loss: 0.8682 - val_dice_coefficient: 0.4629 - val_loss: 1.0136 - lr: 0.0010\n",
      "Epoch 3/30\n",
      "680/680 [==============================] - ETA: 0s - dice_coefficient: 0.5534 - loss: 0.7675\n",
      "Epoch 00003: val_loss did not improve from 1.01364\n",
      "680/680 [==============================] - 214s 314ms/step - dice_coefficient: 0.5534 - loss: 0.7675 - val_dice_coefficient: 0.4688 - val_loss: 1.0313 - lr: 0.0010\n",
      "Epoch 4/30\n",
      "680/680 [==============================] - ETA: 0s - dice_coefficient: 0.5488 - loss: 0.7761\n",
      "Epoch 00004: val_loss did not improve from 1.01364\n",
      "680/680 [==============================] - 208s 306ms/step - dice_coefficient: 0.5488 - loss: 0.7761 - val_dice_coefficient: 0.1885 - val_loss: 2.5959 - lr: 0.0010\n",
      "Epoch 5/30\n",
      "680/680 [==============================] - ETA: 0s - dice_coefficient: 0.5964 - loss: 0.6517\n",
      "Epoch 00005: val_loss improved from 1.01364 to 1.01044, saving model to model-0.65.h5\n",
      "680/680 [==============================] - 207s 304ms/step - dice_coefficient: 0.5964 - loss: 0.6517 - val_dice_coefficient: 0.4682 - val_loss: 1.0104 - lr: 0.0010\n",
      "Epoch 6/30\n",
      "680/680 [==============================] - ETA: 0s - dice_coefficient: 0.5905 - loss: 0.6953\n",
      "Epoch 00006: val_loss did not improve from 1.01044\n",
      "680/680 [==============================] - 206s 304ms/step - dice_coefficient: 0.5905 - loss: 0.6953 - val_dice_coefficient: 0.4624 - val_loss: 1.1040 - lr: 0.0010\n",
      "Epoch 7/30\n",
      "680/680 [==============================] - ETA: 0s - dice_coefficient: 0.6074 - loss: 0.6342\n",
      "Epoch 00007: val_loss did not improve from 1.01044\n",
      "680/680 [==============================] - 207s 305ms/step - dice_coefficient: 0.6074 - loss: 0.6342 - val_dice_coefficient: 0.3946 - val_loss: 1.3738 - lr: 0.0010\n",
      "Epoch 8/30\n",
      "680/680 [==============================] - ETA: 0s - dice_coefficient: 0.6152 - loss: 0.6127\n",
      "Epoch 00008: val_loss did not improve from 1.01044\n",
      "\n",
      "Epoch 00008: ReduceLROnPlateau reducing learning rate to 0.00010000000474974513.\n",
      "680/680 [==============================] - 205s 301ms/step - dice_coefficient: 0.6152 - loss: 0.6127 - val_dice_coefficient: 0.4787 - val_loss: 1.0394 - lr: 0.0010\n",
      "Epoch 9/30\n",
      "680/680 [==============================] - ETA: 0s - dice_coefficient: 0.6823 - loss: 0.4783\n",
      "Epoch 00009: val_loss improved from 1.01044 to 0.95303, saving model to model-0.48.h5\n",
      "680/680 [==============================] - 206s 302ms/step - dice_coefficient: 0.6823 - loss: 0.4783 - val_dice_coefficient: 0.5020 - val_loss: 0.9530 - lr: 1.0000e-04\n",
      "Epoch 10/30\n",
      "680/680 [==============================] - ETA: 0s - dice_coefficient: 0.7043 - loss: 0.4538\n",
      "Epoch 00010: val_loss did not improve from 0.95303\n",
      "680/680 [==============================] - 204s 301ms/step - dice_coefficient: 0.7043 - loss: 0.4538 - val_dice_coefficient: 0.4952 - val_loss: 0.9934 - lr: 1.0000e-04\n",
      "Epoch 11/30\n",
      "680/680 [==============================] - ETA: 0s - dice_coefficient: 0.7132 - loss: 0.4385\n",
      "Epoch 00011: val_loss improved from 0.95303 to 0.91313, saving model to model-0.44.h5\n",
      "680/680 [==============================] - 204s 300ms/step - dice_coefficient: 0.7132 - loss: 0.4385 - val_dice_coefficient: 0.5192 - val_loss: 0.9131 - lr: 1.0000e-04\n",
      "Epoch 12/30\n",
      "680/680 [==============================] - ETA: 0s - dice_coefficient: 0.7273 - loss: 0.4120\n",
      "Epoch 00012: val_loss improved from 0.91313 to 0.88892, saving model to model-0.41.h5\n",
      "680/680 [==============================] - 206s 303ms/step - dice_coefficient: 0.7273 - loss: 0.4120 - val_dice_coefficient: 0.5277 - val_loss: 0.8889 - lr: 1.0000e-04\n",
      "Epoch 13/30\n",
      "680/680 [==============================] - ETA: 0s - dice_coefficient: 0.7401 - loss: 0.3909\n",
      "Epoch 00013: val_loss improved from 0.88892 to 0.87900, saving model to model-0.39.h5\n",
      "680/680 [==============================] - 205s 301ms/step - dice_coefficient: 0.7401 - loss: 0.3909 - val_dice_coefficient: 0.5320 - val_loss: 0.8790 - lr: 1.0000e-04\n",
      "Epoch 14/30\n",
      "680/680 [==============================] - ETA: 0s - dice_coefficient: 0.7446 - loss: 0.3892\n",
      "Epoch 00014: val_loss did not improve from 0.87900\n",
      "680/680 [==============================] - 204s 299ms/step - dice_coefficient: 0.7446 - loss: 0.3892 - val_dice_coefficient: 0.5271 - val_loss: 0.9074 - lr: 1.0000e-04\n",
      "Epoch 15/30\n",
      "680/680 [==============================] - ETA: 0s - dice_coefficient: 0.7519 - loss: 0.3553\n",
      "Epoch 00015: val_loss did not improve from 0.87900\n",
      "680/680 [==============================] - 205s 301ms/step - dice_coefficient: 0.7519 - loss: 0.3553 - val_dice_coefficient: 0.5313 - val_loss: 0.8830 - lr: 1.0000e-04\n",
      "Epoch 16/30\n",
      "680/680 [==============================] - ETA: 0s - dice_coefficient: 0.7560 - loss: 0.3619\n",
      "Epoch 00016: val_loss improved from 0.87900 to 0.87743, saving model to model-0.36.h5\n",
      "680/680 [==============================] - 204s 301ms/step - dice_coefficient: 0.7560 - loss: 0.3619 - val_dice_coefficient: 0.5358 - val_loss: 0.8774 - lr: 1.0000e-04\n",
      "Epoch 17/30\n",
      "680/680 [==============================] - ETA: 0s - dice_coefficient: 0.7589 - loss: 0.3951\n",
      "Epoch 00017: val_loss improved from 0.87743 to 0.86834, saving model to model-0.40.h5\n",
      "680/680 [==============================] - 204s 300ms/step - dice_coefficient: 0.7589 - loss: 0.3951 - val_dice_coefficient: 0.5362 - val_loss: 0.8683 - lr: 1.0000e-04\n",
      "Epoch 18/30\n",
      "680/680 [==============================] - ETA: 0s - dice_coefficient: 0.7770 - loss: 0.3095\n",
      "Epoch 00018: val_loss did not improve from 0.86834\n",
      "680/680 [==============================] - 204s 300ms/step - dice_coefficient: 0.7770 - loss: 0.3095 - val_dice_coefficient: 0.5357 - val_loss: 0.9010 - lr: 1.0000e-04\n",
      "Epoch 19/30\n",
      "680/680 [==============================] - ETA: 0s - dice_coefficient: 0.7736 - loss: 0.3205\n",
      "Epoch 00019: val_loss did not improve from 0.86834\n",
      "680/680 [==============================] - 205s 302ms/step - dice_coefficient: 0.7736 - loss: 0.3205 - val_dice_coefficient: 0.5382 - val_loss: 0.8763 - lr: 1.0000e-04\n",
      "Epoch 20/30\n",
      "680/680 [==============================] - ETA: 0s - dice_coefficient: 0.7801 - loss: 0.3117\n",
      "Epoch 00020: val_loss improved from 0.86834 to 0.84425, saving model to model-0.31.h5\n",
      "680/680 [==============================] - 206s 303ms/step - dice_coefficient: 0.7801 - loss: 0.3117 - val_dice_coefficient: 0.5462 - val_loss: 0.8442 - lr: 1.0000e-04\n",
      "Epoch 21/30\n",
      "680/680 [==============================] - ETA: 0s - dice_coefficient: 0.7878 - loss: 0.3028\n",
      "Epoch 00021: val_loss did not improve from 0.84425\n",
      "680/680 [==============================] - 204s 300ms/step - dice_coefficient: 0.7878 - loss: 0.3028 - val_dice_coefficient: 0.5402 - val_loss: 0.8574 - lr: 1.0000e-04\n",
      "Epoch 22/30\n",
      "680/680 [==============================] - ETA: 0s - dice_coefficient: 0.7855 - loss: 0.3270\n",
      "Epoch 00022: val_loss did not improve from 0.84425\n",
      "680/680 [==============================] - 204s 299ms/step - dice_coefficient: 0.7855 - loss: 0.3270 - val_dice_coefficient: 0.5468 - val_loss: 0.8510 - lr: 1.0000e-04\n",
      "Epoch 23/30\n",
      "680/680 [==============================] - ETA: 0s - dice_coefficient: 0.7865 - loss: 0.3003\n",
      "Epoch 00023: val_loss improved from 0.84425 to 0.83979, saving model to model-0.30.h5\n",
      "680/680 [==============================] - 205s 302ms/step - dice_coefficient: 0.7865 - loss: 0.3003 - val_dice_coefficient: 0.5485 - val_loss: 0.8398 - lr: 1.0000e-04\n",
      "Epoch 24/30\n",
      "680/680 [==============================] - ETA: 0s - dice_coefficient: 0.7889 - loss: 0.3030\n",
      "Epoch 00024: val_loss improved from 0.83979 to 0.82492, saving model to model-0.30.h5\n",
      "680/680 [==============================] - 205s 302ms/step - dice_coefficient: 0.7889 - loss: 0.3030 - val_dice_coefficient: 0.5501 - val_loss: 0.8249 - lr: 1.0000e-04\n",
      "Epoch 25/30\n",
      "680/680 [==============================] - ETA: 0s - dice_coefficient: 0.7989 - loss: 0.2816\n",
      "Epoch 00025: val_loss did not improve from 0.82492\n",
      "680/680 [==============================] - 201s 296ms/step - dice_coefficient: 0.7989 - loss: 0.2816 - val_dice_coefficient: 0.5484 - val_loss: 0.8351 - lr: 1.0000e-04\n",
      "Epoch 26/30\n",
      "680/680 [==============================] - ETA: 0s - dice_coefficient: 0.7964 - loss: 0.3174\n",
      "Epoch 00026: val_loss did not improve from 0.82492\n",
      "680/680 [==============================] - 201s 295ms/step - dice_coefficient: 0.7964 - loss: 0.3174 - val_dice_coefficient: 0.5436 - val_loss: 0.8389 - lr: 1.0000e-04\n",
      "Epoch 27/30\n",
      "680/680 [==============================] - ETA: 0s - dice_coefficient: 0.7982 - loss: 0.2768\n",
      "Epoch 00027: val_loss did not improve from 0.82492\n",
      "\n",
      "Epoch 00027: ReduceLROnPlateau reducing learning rate to 1.0000000474974514e-05.\n",
      "680/680 [==============================] - 201s 295ms/step - dice_coefficient: 0.7982 - loss: 0.2768 - val_dice_coefficient: 0.5538 - val_loss: 0.8311 - lr: 1.0000e-04\n",
      "Epoch 28/30\n",
      "680/680 [==============================] - ETA: 0s - dice_coefficient: 0.8052 - loss: 0.2870\n",
      "Epoch 00028: val_loss improved from 0.82492 to 0.82227, saving model to model-0.29.h5\n",
      "680/680 [==============================] - 202s 298ms/step - dice_coefficient: 0.8052 - loss: 0.2870 - val_dice_coefficient: 0.5544 - val_loss: 0.8223 - lr: 1.0000e-05\n",
      "Epoch 29/30\n",
      "680/680 [==============================] - ETA: 0s - dice_coefficient: 0.8085 - loss: 0.2594\n",
      "Epoch 00029: val_loss improved from 0.82227 to 0.81703, saving model to model-0.26.h5\n",
      "680/680 [==============================] - 202s 297ms/step - dice_coefficient: 0.8085 - loss: 0.2594 - val_dice_coefficient: 0.5565 - val_loss: 0.8170 - lr: 1.0000e-05\n",
      "Epoch 30/30\n",
      "680/680 [==============================] - ETA: 0s - dice_coefficient: 0.8082 - loss: 0.2598\n",
      "Epoch 00030: val_loss improved from 0.81703 to 0.81178, saving model to model-0.26.h5\n",
      "680/680 [==============================] - 201s 296ms/step - dice_coefficient: 0.8082 - loss: 0.2598 - val_dice_coefficient: 0.5579 - val_loss: 0.8118 - lr: 1.0000e-05\n"
     ]
    }
   ],
   "source": [
    "history=model.fit_generator(train_gen, validation_data=val_gen,\n",
    "                    callbacks = [checkpoint, reduce_lr, stop], \n",
    "                    verbose=1, epochs=30, use_multiprocessing=False, workers=8)\n"
   ]
  },
  {
   "cell_type": "code",
   "execution_count": 19,
   "metadata": {
    "colab": {
     "base_uri": "https://localhost:8080/",
     "height": 295
    },
    "colab_type": "code",
    "id": "87T5BetZQYQv",
    "outputId": "bbdc817d-f014-4de8-ded3-892e45b715ae"
   },
   "outputs": [
    {
     "data": {
      "image/png": "[encoded data removed]",
      "text/plain": [
       "<Figure size 288x288 with 1 Axes>"
      ]
     },
     "metadata": {
      "needs_background": "light",
      "tags": []
     },
     "output_type": "display_data"
    }
   ],
   "source": [
    "plt.figure(figsize=(4, 4))\n",
    "plt.title(\"Learning curve\")\n",
    "plt.plot(history.history[\"loss\"], label=\"loss\")\n",
    "plt.plot(history.history[\"val_loss\"], label=\"val_loss\")\n",
    "plt.plot( np.argmin(history.history[\"val_loss\"]), np.min(history.history[\"val_loss\"]), marker=\"x\", color=\"r\", label=\"best model\")\n",
    "plt.xlabel(\"Epochs\")\n",
    "plt.ylabel(\"Loss\")\n",
    "plt.legend();\n"
   ]
  },
  {
   "cell_type": "markdown",
   "metadata": {},
   "source": [
    "## Model Evaluation on Validation set"
   ]
  },
  {
   "cell_type": "code",
   "execution_count": 20,
   "metadata": {
    "colab": {},
    "colab_type": "code",
    "id": "_F9FfyFSQl_5"
   },
   "outputs": [],
   "source": [
    "model = create_model()\n",
    "model.load_weights('model-0.26.h5')\n",
    "optimizer = Adam(lr=0.001)\n",
    "model.compile(loss=loss, optimizer=optimizer, metrics=[dice_coefficient])"
   ]
  },
  {
   "cell_type": "code",
   "execution_count": 21,
   "metadata": {
    "colab": {
     "base_uri": "https://localhost:8080/",
     "height": 122
    },
    "colab_type": "code",
    "id": "ow_XBJlZQhED",
    "outputId": "c0a8fdbb-7fd8-4688-ee04-9660ef133044"
   },
   "outputs": [
    {
     "name": "stdout",
     "output_type": "stream",
     "text": [
      "WARNING:tensorflow:From <ipython-input-21-b0b940cb853a>:1: Model.evaluate_generator (from tensorflow.python.keras.engine.training) is deprecated and will be removed in a future version.\n",
      "Instructions for updating:\n",
      "Please use Model.evaluate, which supports generators.\n",
      "292/292 [==============================] - 54s 187ms/step - loss: 0.8118 - dice_coefficient: 0.5579\n"
     ]
    },
    {
     "data": {
      "text/plain": [
       "[0.8117769360542297, 0.5578545331954956]"
      ]
     },
     "execution_count": 21,
     "metadata": {
      "tags": []
     },
     "output_type": "execute_result"
    }
   ],
   "source": [
    "model.evaluate_generator(val_gen, verbose=1, workers=8)"
   ]
  },
  {
   "cell_type": "markdown",
   "metadata": {},
   "source": [
    "## Evaluating the Test set"
   ]
  },
  {
   "cell_type": "code",
   "execution_count": 22,
   "metadata": {
    "colab": {},
    "colab_type": "code",
    "id": "wPRYxq5QepJG"
   },
   "outputs": [],
   "source": [
    "test_masks = np.zeros((int(len(X_test)), IMAGE_HEIGHT, IMAGE_WIDTH), dtype=np.float32)\n",
    "test_img = np.zeros((int(len(X_test)), IMAGE_HEIGHT, IMAGE_WIDTH,3), dtype=np.float32)"
   ]
  },
  {
   "cell_type": "code",
   "execution_count": 23,
   "metadata": {
    "colab": {
     "base_uri": "https://localhost:8080/",
     "height": 34
    },
    "colab_type": "code",
    "id": "36mDqzhgepY_",
    "outputId": "4ad73c60-357a-4c60-e8cd-cbd8a69fcf63"
   },
   "outputs": [
    {
     "name": "stderr",
     "output_type": "stream",
     "text": [
      "100%|██████████| 3398/3398 [18:28<00:00,  3.07it/s]\n"
     ]
    }
   ],
   "source": [
    "for index in tqdm(range(len(X_test))):\n",
    "    img = dicom.read_file(X_test[index][1]['dicom']).pixel_array\n",
    "    img = cv2.resize(img, dsize=(IMAGE_HEIGHT, IMAGE_WIDTH), interpolation=cv2.INTER_CUBIC)\n",
    "    img = np.stack((img,)*3, axis=-1)            \n",
    "    test_img[index]=preprocess_input(np.array(img, dtype=np.float32))\n",
    "    \n",
    "    for i in X_test[index][1]['boxes']:\n",
    "      x1 = round(i[0]*IMAGE_WIDTH/imageWidth)\n",
    "      x2 = round((i[0]+i[2])*IMAGE_WIDTH/imageWidth)\n",
    "      y1 = round(i[1]*IMAGE_HEIGHT/imageHeight)         \n",
    "      y2 = round((i[1]+i[3])*IMAGE_HEIGHT/imageHeight)\n",
    "      test_masks[index][y1:y2, x1:x2]=1"
   ]
  },
  {
   "cell_type": "markdown",
   "metadata": {},
   "source": [
    "## Performance Matrix "
   ]
  },
  {
   "cell_type": "code",
   "execution_count": 24,
   "metadata": {
    "colab": {},
    "colab_type": "code",
    "id": "euiXaO7w38Lj"
   },
   "outputs": [],
   "source": [
    "per_mat = pd.DataFrame(columns=['Minimum_Confidence','True Positive','True Negative','False Positive','False Negative','Accuracy','Recall','Precision','F1-score','Specificity'])"
   ]
  },
  {
   "cell_type": "code",
   "execution_count": 25,
   "metadata": {
    "colab": {},
    "colab_type": "code",
    "id": "bKsHF0BTh20Q"
   },
   "outputs": [],
   "source": [
    "def find_bbox(regions):\n",
    "  MIN_AREA=100\n",
    "  boxes = []\n",
    "  for props in regions:    \n",
    "    minr, minc, maxr, maxc = props.bbox\n",
    "    bx = (minc, maxc, maxc, minc, minc)\n",
    "    by = (minr, minr, maxr, maxr, minr)\n",
    "    \n",
    "    if props.area > MIN_AREA:\n",
    "        x = props.bbox[1]\n",
    "        y = props.bbox[2]\n",
    "        w = props.bbox[1]+props.bbox[3]\n",
    "        h = props.bbox[0]+props.bbox[2]\n",
    "        boxes.append([x,y,w,h]) \n",
    "  return boxes"
   ]
  },
  {
   "cell_type": "code",
   "execution_count": 26,
   "metadata": {
    "colab": {},
    "colab_type": "code",
    "id": "miUrpBkx1bup"
   },
   "outputs": [],
   "source": [
    "def performace_matrix(test_data = X_test,test = test_img,per_mat = per_mat):\n",
    "\n",
    " \"\"\"\n",
    " Checks if the model is correctly classifying the patient as pneumonia or non-pneumonia\n",
    " \n",
    " \"\"\"\n",
    "\n",
    "  lt = [0.5,.55,0.6,0.65,0.7,0.75,0.8,0.85,0.9,0.92,0.94,0.95,0.955,0.96,0.965,0.97,0.975,0.98,0.983,0.985,0.987,0.99]\n",
    "  for j in range(len(lt)):\n",
    "    TN = 0\n",
    "    TP = 0\n",
    "    FP = 0\n",
    "    FN = 0\n",
    "    threshold = lt[j]\n",
    "    for i in range(len(test_data)):\n",
    "      pred_mask = model.predict(test_img[i].reshape(1,128,128,3))\n",
    "      pred_mask = pred_mask.reshape(128,128)\n",
    "      pred_mask_t = pred_mask > threshold\n",
    "      label_img = label(pred_mask_t)\n",
    "      regions = regionprops(label_img)\n",
    "      boxes = find_bbox(regions)\n",
    "        \n",
    "      if len(boxes) == 0 and len(test_data[i][1]['boxes']) == 0:\n",
    "         TN += 1\n",
    "      elif len(boxes) == 0 and len(test_data[i][1]['boxes']) != 0:\n",
    "         FN += 1\n",
    "      elif len(boxes) != 0 and len(test_data[i][1]['boxes']) == 0:\n",
    "         FP += 1\n",
    "      elif len(boxes) != 0 and len(test_data[i][1]['boxes']) != 0:\n",
    "         TP += 1\n",
    "\n",
    "    Accuracy = (TP + TN) / (TP + TN + FP + FN)\n",
    "    Precision = TP / (TP + FP)\n",
    "    Recall = TP / (TP + FN)\n",
    "    f1_score = (2 * Precision * Recall) / (Precision + Recall)\n",
    "    specificity = TN / (TN + FP)\n",
    "\n",
    "    per_mat = per_mat.append({'Minimum_Confidence' : threshold,'True Positive' : TP ,'True Negative' : TN,\n",
    "                                'False Positive' : FP,'False Negative' : FN,'Accuracy' : Accuracy,\n",
    "                                'Recall' : Recall,'Precision': Precision,'F1-score' : f1_score,'Specificity':specificity},ignore_index = True)\n",
    "    print(per_mat.head(10))\n",
    "  return per_mat"
   ]
  },
  {
   "cell_type": "code",
   "execution_count": 27,
   "metadata": {
    "colab": {
     "base_uri": "https://localhost:8080/",
     "height": 1000
    },
    "colab_type": "code",
    "id": "JHOkjSB3x1IX",
    "outputId": "1c7ae03f-fd21-4342-ff7e-7b6d0abf51c9"
   },
   "outputs": [
    {
     "name": "stdout",
     "output_type": "stream",
     "text": [
      "   Minimum_Confidence  True Positive  ...  F1-score  Specificity\n",
      "0                 0.5          521.0  ...  0.683279     0.906818\n",
      "\n",
      "[1 rows x 10 columns]\n",
      "   Minimum_Confidence  True Positive  ...  F1-score  Specificity\n",
      "0                0.50          521.0  ...  0.683279     0.906818\n",
      "1                0.55          520.0  ...  0.684661     0.908712\n",
      "\n",
      "[2 rows x 10 columns]\n",
      "   Minimum_Confidence  True Positive  ...  F1-score  Specificity\n",
      "0                0.50          521.0  ...  0.683279     0.906818\n",
      "1                0.55          520.0  ...  0.684661     0.908712\n",
      "2                0.60          519.0  ...  0.684697     0.909470\n",
      "\n",
      "[3 rows x 10 columns]\n",
      "   Minimum_Confidence  True Positive  ...  F1-score  Specificity\n",
      "0                0.50          521.0  ...  0.683279     0.906818\n",
      "1                0.55          520.0  ...  0.684661     0.908712\n",
      "2                0.60          519.0  ...  0.684697     0.909470\n",
      "3                0.65          515.0  ...  0.683931     0.911742\n",
      "\n",
      "[4 rows x 10 columns]\n",
      "   Minimum_Confidence  True Positive  ...  F1-score  Specificity\n",
      "0                0.50          521.0  ...  0.683279     0.906818\n",
      "1                0.55          520.0  ...  0.684661     0.908712\n",
      "2                0.60          519.0  ...  0.684697     0.909470\n",
      "3                0.65          515.0  ...  0.683931     0.911742\n",
      "4                0.70          511.0  ...  0.683612     0.914394\n",
      "\n",
      "[5 rows x 10 columns]\n",
      "   Minimum_Confidence  True Positive  ...  F1-score  Specificity\n",
      "0                0.50          521.0  ...  0.683279     0.906818\n",
      "1                0.55          520.0  ...  0.684661     0.908712\n",
      "2                0.60          519.0  ...  0.684697     0.909470\n",
      "3                0.65          515.0  ...  0.683931     0.911742\n",
      "4                0.70          511.0  ...  0.683612     0.914394\n",
      "5                0.75          505.0  ...  0.680593     0.916288\n",
      "\n",
      "[6 rows x 10 columns]\n",
      "   Minimum_Confidence  True Positive  ...  F1-score  Specificity\n",
      "0                0.50          521.0  ...  0.683279     0.906818\n",
      "1                0.55          520.0  ...  0.684661     0.908712\n",
      "2                0.60          519.0  ...  0.684697     0.909470\n",
      "3                0.65          515.0  ...  0.683931     0.911742\n",
      "4                0.70          511.0  ...  0.683612     0.914394\n",
      "5                0.75          505.0  ...  0.680593     0.916288\n",
      "6                0.80          500.0  ...  0.680735     0.920076\n",
      "\n",
      "[7 rows x 10 columns]\n",
      "   Minimum_Confidence  True Positive  ...  F1-score  Specificity\n",
      "0                0.50          521.0  ...  0.683279     0.906818\n",
      "1                0.55          520.0  ...  0.684661     0.908712\n",
      "2                0.60          519.0  ...  0.684697     0.909470\n",
      "3                0.65          515.0  ...  0.683931     0.911742\n",
      "4                0.70          511.0  ...  0.683612     0.914394\n",
      "5                0.75          505.0  ...  0.680593     0.916288\n",
      "6                0.80          500.0  ...  0.680735     0.920076\n",
      "7                0.85          497.0  ...  0.682224     0.923485\n",
      "\n",
      "[8 rows x 10 columns]\n",
      "   Minimum_Confidence  True Positive  ...  F1-score  Specificity\n",
      "0                0.50          521.0  ...  0.683279     0.906818\n",
      "1                0.55          520.0  ...  0.684661     0.908712\n",
      "2                0.60          519.0  ...  0.684697     0.909470\n",
      "3                0.65          515.0  ...  0.683931     0.911742\n",
      "4                0.70          511.0  ...  0.683612     0.914394\n",
      "5                0.75          505.0  ...  0.680593     0.916288\n",
      "6                0.80          500.0  ...  0.680735     0.920076\n",
      "7                0.85          497.0  ...  0.682224     0.923485\n",
      "8                0.90          486.0  ...  0.676880     0.927273\n",
      "\n",
      "[9 rows x 10 columns]\n",
      "   Minimum_Confidence  True Positive  ...  F1-score  Specificity\n",
      "0                0.50          521.0  ...  0.683279     0.906818\n",
      "1                0.55          520.0  ...  0.684661     0.908712\n",
      "2                0.60          519.0  ...  0.684697     0.909470\n",
      "3                0.65          515.0  ...  0.683931     0.911742\n",
      "4                0.70          511.0  ...  0.683612     0.914394\n",
      "5                0.75          505.0  ...  0.680593     0.916288\n",
      "6                0.80          500.0  ...  0.680735     0.920076\n",
      "7                0.85          497.0  ...  0.682224     0.923485\n",
      "8                0.90          486.0  ...  0.676880     0.927273\n",
      "9                0.92          483.0  ...  0.676471     0.929167\n",
      "\n",
      "[10 rows x 10 columns]\n",
      "   Minimum_Confidence  True Positive  ...  F1-score  Specificity\n",
      "0                0.50          521.0  ...  0.683279     0.906818\n",
      "1                0.55          520.0  ...  0.684661     0.908712\n",
      "2                0.60          519.0  ...  0.684697     0.909470\n",
      "3                0.65          515.0  ...  0.683931     0.911742\n",
      "4                0.70          511.0  ...  0.683612     0.914394\n",
      "5                0.75          505.0  ...  0.680593     0.916288\n",
      "6                0.80          500.0  ...  0.680735     0.920076\n",
      "7                0.85          497.0  ...  0.682224     0.923485\n",
      "8                0.90          486.0  ...  0.676880     0.927273\n",
      "9                0.92          483.0  ...  0.676471     0.929167\n",
      "\n",
      "[10 rows x 10 columns]\n",
      "   Minimum_Confidence  True Positive  ...  F1-score  Specificity\n",
      "0                0.50          521.0  ...  0.683279     0.906818\n",
      "1                0.55          520.0  ...  0.684661     0.908712\n",
      "2                0.60          519.0  ...  0.684697     0.909470\n",
      "3                0.65          515.0  ...  0.683931     0.911742\n",
      "4                0.70          511.0  ...  0.683612     0.914394\n",
      "5                0.75          505.0  ...  0.680593     0.916288\n",
      "6                0.80          500.0  ...  0.680735     0.920076\n",
      "7                0.85          497.0  ...  0.682224     0.923485\n",
      "8                0.90          486.0  ...  0.676880     0.927273\n",
      "9                0.92          483.0  ...  0.676471     0.929167\n",
      "\n",
      "[10 rows x 10 columns]\n",
      "   Minimum_Confidence  True Positive  ...  F1-score  Specificity\n",
      "0                0.50          521.0  ...  0.683279     0.906818\n",
      "1                0.55          520.0  ...  0.684661     0.908712\n",
      "2                0.60          519.0  ...  0.684697     0.909470\n",
      "3                0.65          515.0  ...  0.683931     0.911742\n",
      "4                0.70          511.0  ...  0.683612     0.914394\n",
      "5                0.75          505.0  ...  0.680593     0.916288\n",
      "6                0.80          500.0  ...  0.680735     0.920076\n",
      "7                0.85          497.0  ...  0.682224     0.923485\n",
      "8                0.90          486.0  ...  0.676880     0.927273\n",
      "9                0.92          483.0  ...  0.676471     0.929167\n",
      "\n",
      "[10 rows x 10 columns]\n",
      "   Minimum_Confidence  True Positive  ...  F1-score  Specificity\n",
      "0                0.50          521.0  ...  0.683279     0.906818\n",
      "1                0.55          520.0  ...  0.684661     0.908712\n",
      "2                0.60          519.0  ...  0.684697     0.909470\n",
      "3                0.65          515.0  ...  0.683931     0.911742\n",
      "4                0.70          511.0  ...  0.683612     0.914394\n",
      "5                0.75          505.0  ...  0.680593     0.916288\n",
      "6                0.80          500.0  ...  0.680735     0.920076\n",
      "7                0.85          497.0  ...  0.682224     0.923485\n",
      "8                0.90          486.0  ...  0.676880     0.927273\n",
      "9                0.92          483.0  ...  0.676471     0.929167\n",
      "\n",
      "[10 rows x 10 columns]\n",
      "   Minimum_Confidence  True Positive  ...  F1-score  Specificity\n",
      "0                0.50          521.0  ...  0.683279     0.906818\n",
      "1                0.55          520.0  ...  0.684661     0.908712\n",
      "2                0.60          519.0  ...  0.684697     0.909470\n",
      "3                0.65          515.0  ...  0.683931     0.911742\n",
      "4                0.70          511.0  ...  0.683612     0.914394\n",
      "5                0.75          505.0  ...  0.680593     0.916288\n",
      "6                0.80          500.0  ...  0.680735     0.920076\n",
      "7                0.85          497.0  ...  0.682224     0.923485\n",
      "8                0.90          486.0  ...  0.676880     0.927273\n",
      "9                0.92          483.0  ...  0.676471     0.929167\n",
      "\n",
      "[10 rows x 10 columns]\n",
      "   Minimum_Confidence  True Positive  ...  F1-score  Specificity\n",
      "0                0.50          521.0  ...  0.683279     0.906818\n",
      "1                0.55          520.0  ...  0.684661     0.908712\n",
      "2                0.60          519.0  ...  0.684697     0.909470\n",
      "3                0.65          515.0  ...  0.683931     0.911742\n",
      "4                0.70          511.0  ...  0.683612     0.914394\n",
      "5                0.75          505.0  ...  0.680593     0.916288\n",
      "6                0.80          500.0  ...  0.680735     0.920076\n",
      "7                0.85          497.0  ...  0.682224     0.923485\n",
      "8                0.90          486.0  ...  0.676880     0.927273\n",
      "9                0.92          483.0  ...  0.676471     0.929167\n",
      "\n",
      "[10 rows x 10 columns]\n",
      "   Minimum_Confidence  True Positive  ...  F1-score  Specificity\n",
      "0                0.50          521.0  ...  0.683279     0.906818\n",
      "1                0.55          520.0  ...  0.684661     0.908712\n",
      "2                0.60          519.0  ...  0.684697     0.909470\n",
      "3                0.65          515.0  ...  0.683931     0.911742\n",
      "4                0.70          511.0  ...  0.683612     0.914394\n",
      "5                0.75          505.0  ...  0.680593     0.916288\n",
      "6                0.80          500.0  ...  0.680735     0.920076\n",
      "7                0.85          497.0  ...  0.682224     0.923485\n",
      "8                0.90          486.0  ...  0.676880     0.927273\n",
      "9                0.92          483.0  ...  0.676471     0.929167\n",
      "\n",
      "[10 rows x 10 columns]\n",
      "   Minimum_Confidence  True Positive  ...  F1-score  Specificity\n",
      "0                0.50          521.0  ...  0.683279     0.906818\n",
      "1                0.55          520.0  ...  0.684661     0.908712\n",
      "2                0.60          519.0  ...  0.684697     0.909470\n",
      "3                0.65          515.0  ...  0.683931     0.911742\n",
      "4                0.70          511.0  ...  0.683612     0.914394\n",
      "5                0.75          505.0  ...  0.680593     0.916288\n",
      "6                0.80          500.0  ...  0.680735     0.920076\n",
      "7                0.85          497.0  ...  0.682224     0.923485\n",
      "8                0.90          486.0  ...  0.676880     0.927273\n",
      "9                0.92          483.0  ...  0.676471     0.929167\n",
      "\n",
      "[10 rows x 10 columns]\n",
      "   Minimum_Confidence  True Positive  ...  F1-score  Specificity\n",
      "0                0.50          521.0  ...  0.683279     0.906818\n",
      "1                0.55          520.0  ...  0.684661     0.908712\n",
      "2                0.60          519.0  ...  0.684697     0.909470\n",
      "3                0.65          515.0  ...  0.683931     0.911742\n",
      "4                0.70          511.0  ...  0.683612     0.914394\n",
      "5                0.75          505.0  ...  0.680593     0.916288\n",
      "6                0.80          500.0  ...  0.680735     0.920076\n",
      "7                0.85          497.0  ...  0.682224     0.923485\n",
      "8                0.90          486.0  ...  0.676880     0.927273\n",
      "9                0.92          483.0  ...  0.676471     0.929167\n",
      "\n",
      "[10 rows x 10 columns]\n",
      "   Minimum_Confidence  True Positive  ...  F1-score  Specificity\n",
      "0                0.50          521.0  ...  0.683279     0.906818\n",
      "1                0.55          520.0  ...  0.684661     0.908712\n",
      "2                0.60          519.0  ...  0.684697     0.909470\n",
      "3                0.65          515.0  ...  0.683931     0.911742\n",
      "4                0.70          511.0  ...  0.683612     0.914394\n",
      "5                0.75          505.0  ...  0.680593     0.916288\n",
      "6                0.80          500.0  ...  0.680735     0.920076\n",
      "7                0.85          497.0  ...  0.682224     0.923485\n",
      "8                0.90          486.0  ...  0.676880     0.927273\n",
      "9                0.92          483.0  ...  0.676471     0.929167\n",
      "\n",
      "[10 rows x 10 columns]\n",
      "   Minimum_Confidence  True Positive  ...  F1-score  Specificity\n",
      "0                0.50          521.0  ...  0.683279     0.906818\n",
      "1                0.55          520.0  ...  0.684661     0.908712\n",
      "2                0.60          519.0  ...  0.684697     0.909470\n",
      "3                0.65          515.0  ...  0.683931     0.911742\n",
      "4                0.70          511.0  ...  0.683612     0.914394\n",
      "5                0.75          505.0  ...  0.680593     0.916288\n",
      "6                0.80          500.0  ...  0.680735     0.920076\n",
      "7                0.85          497.0  ...  0.682224     0.923485\n",
      "8                0.90          486.0  ...  0.676880     0.927273\n",
      "9                0.92          483.0  ...  0.676471     0.929167\n",
      "\n",
      "[10 rows x 10 columns]\n",
      "   Minimum_Confidence  True Positive  ...  F1-score  Specificity\n",
      "0                0.50          521.0  ...  0.683279     0.906818\n",
      "1                0.55          520.0  ...  0.684661     0.908712\n",
      "2                0.60          519.0  ...  0.684697     0.909470\n",
      "3                0.65          515.0  ...  0.683931     0.911742\n",
      "4                0.70          511.0  ...  0.683612     0.914394\n",
      "5                0.75          505.0  ...  0.680593     0.916288\n",
      "6                0.80          500.0  ...  0.680735     0.920076\n",
      "7                0.85          497.0  ...  0.682224     0.923485\n",
      "8                0.90          486.0  ...  0.676880     0.927273\n",
      "9                0.92          483.0  ...  0.676471     0.929167\n",
      "\n",
      "[10 rows x 10 columns]\n"
     ]
    }
   ],
   "source": [
    "per_mat1 = performace_matrix()"
   ]
  },
  {
   "cell_type": "code",
   "execution_count": 28,
   "metadata": {
    "colab": {},
    "colab_type": "code",
    "id": "MQqVQI9zFfwI"
   },
   "outputs": [],
   "source": [
    "per_mat1.to_csv('metrics.csv',index=False)"
   ]
  },
  {
   "cell_type": "code",
   "execution_count": 29,
   "metadata": {
    "colab": {
     "base_uri": "https://localhost:8080/",
     "height": 686
    },
    "colab_type": "code",
    "id": "cKKNQ7_ILs05",
    "outputId": "b2322dcb-8cd0-40a9-fee0-769382df806d"
   },
   "outputs": [
    {
     "data": {
      "text/html": [
       "<div>\n",
       "<style scoped>\n",
       "    .dataframe tbody tr th:only-of-type {\n",
       "        vertical-align: middle;\n",
       "    }\n",
       "\n",
       "    .dataframe tbody tr th {\n",
       "        vertical-align: top;\n",
       "    }\n",
       "\n",
       "    .dataframe thead th {\n",
       "        text-align: right;\n",
       "    }\n",
       "</style>\n",
       "<table border=\"1\" class=\"dataframe\">\n",
       "  <thead>\n",
       "    <tr style=\"text-align: right;\">\n",
       "      <th></th>\n",
       "      <th>Minimum_Confidence</th>\n",
       "      <th>True Positive</th>\n",
       "      <th>True Negative</th>\n",
       "      <th>False Positive</th>\n",
       "      <th>False Negative</th>\n",
       "      <th>Accuracy</th>\n",
       "      <th>Recall</th>\n",
       "      <th>Precision</th>\n",
       "      <th>F1-score</th>\n",
       "      <th>Specificity</th>\n",
       "    </tr>\n",
       "  </thead>\n",
       "  <tbody>\n",
       "    <tr>\n",
       "      <th>0</th>\n",
       "      <td>0.500</td>\n",
       "      <td>521.0</td>\n",
       "      <td>2394.0</td>\n",
       "      <td>246.0</td>\n",
       "      <td>237.0</td>\n",
       "      <td>0.857858</td>\n",
       "      <td>0.687335</td>\n",
       "      <td>0.679270</td>\n",
       "      <td>0.683279</td>\n",
       "      <td>0.906818</td>\n",
       "    </tr>\n",
       "    <tr>\n",
       "      <th>1</th>\n",
       "      <td>0.550</td>\n",
       "      <td>520.0</td>\n",
       "      <td>2399.0</td>\n",
       "      <td>241.0</td>\n",
       "      <td>238.0</td>\n",
       "      <td>0.859035</td>\n",
       "      <td>0.686016</td>\n",
       "      <td>0.683311</td>\n",
       "      <td>0.684661</td>\n",
       "      <td>0.908712</td>\n",
       "    </tr>\n",
       "    <tr>\n",
       "      <th>2</th>\n",
       "      <td>0.600</td>\n",
       "      <td>519.0</td>\n",
       "      <td>2401.0</td>\n",
       "      <td>239.0</td>\n",
       "      <td>239.0</td>\n",
       "      <td>0.859329</td>\n",
       "      <td>0.684697</td>\n",
       "      <td>0.684697</td>\n",
       "      <td>0.684697</td>\n",
       "      <td>0.909470</td>\n",
       "    </tr>\n",
       "    <tr>\n",
       "      <th>3</th>\n",
       "      <td>0.650</td>\n",
       "      <td>515.0</td>\n",
       "      <td>2407.0</td>\n",
       "      <td>233.0</td>\n",
       "      <td>243.0</td>\n",
       "      <td>0.859918</td>\n",
       "      <td>0.679420</td>\n",
       "      <td>0.688503</td>\n",
       "      <td>0.683931</td>\n",
       "      <td>0.911742</td>\n",
       "    </tr>\n",
       "    <tr>\n",
       "      <th>4</th>\n",
       "      <td>0.700</td>\n",
       "      <td>511.0</td>\n",
       "      <td>2414.0</td>\n",
       "      <td>226.0</td>\n",
       "      <td>247.0</td>\n",
       "      <td>0.860800</td>\n",
       "      <td>0.674142</td>\n",
       "      <td>0.693351</td>\n",
       "      <td>0.683612</td>\n",
       "      <td>0.914394</td>\n",
       "    </tr>\n",
       "    <tr>\n",
       "      <th>5</th>\n",
       "      <td>0.750</td>\n",
       "      <td>505.0</td>\n",
       "      <td>2419.0</td>\n",
       "      <td>221.0</td>\n",
       "      <td>253.0</td>\n",
       "      <td>0.860506</td>\n",
       "      <td>0.666227</td>\n",
       "      <td>0.695592</td>\n",
       "      <td>0.680593</td>\n",
       "      <td>0.916288</td>\n",
       "    </tr>\n",
       "    <tr>\n",
       "      <th>6</th>\n",
       "      <td>0.800</td>\n",
       "      <td>500.0</td>\n",
       "      <td>2429.0</td>\n",
       "      <td>211.0</td>\n",
       "      <td>258.0</td>\n",
       "      <td>0.861978</td>\n",
       "      <td>0.659631</td>\n",
       "      <td>0.703235</td>\n",
       "      <td>0.680735</td>\n",
       "      <td>0.920076</td>\n",
       "    </tr>\n",
       "    <tr>\n",
       "      <th>7</th>\n",
       "      <td>0.850</td>\n",
       "      <td>497.0</td>\n",
       "      <td>2438.0</td>\n",
       "      <td>202.0</td>\n",
       "      <td>261.0</td>\n",
       "      <td>0.863743</td>\n",
       "      <td>0.655673</td>\n",
       "      <td>0.711016</td>\n",
       "      <td>0.682224</td>\n",
       "      <td>0.923485</td>\n",
       "    </tr>\n",
       "    <tr>\n",
       "      <th>8</th>\n",
       "      <td>0.900</td>\n",
       "      <td>486.0</td>\n",
       "      <td>2448.0</td>\n",
       "      <td>192.0</td>\n",
       "      <td>272.0</td>\n",
       "      <td>0.863449</td>\n",
       "      <td>0.641161</td>\n",
       "      <td>0.716814</td>\n",
       "      <td>0.676880</td>\n",
       "      <td>0.927273</td>\n",
       "    </tr>\n",
       "    <tr>\n",
       "      <th>9</th>\n",
       "      <td>0.920</td>\n",
       "      <td>483.0</td>\n",
       "      <td>2453.0</td>\n",
       "      <td>187.0</td>\n",
       "      <td>275.0</td>\n",
       "      <td>0.864038</td>\n",
       "      <td>0.637203</td>\n",
       "      <td>0.720896</td>\n",
       "      <td>0.676471</td>\n",
       "      <td>0.929167</td>\n",
       "    </tr>\n",
       "    <tr>\n",
       "      <th>10</th>\n",
       "      <td>0.940</td>\n",
       "      <td>472.0</td>\n",
       "      <td>2465.0</td>\n",
       "      <td>175.0</td>\n",
       "      <td>286.0</td>\n",
       "      <td>0.864332</td>\n",
       "      <td>0.622691</td>\n",
       "      <td>0.729521</td>\n",
       "      <td>0.671886</td>\n",
       "      <td>0.933712</td>\n",
       "    </tr>\n",
       "    <tr>\n",
       "      <th>11</th>\n",
       "      <td>0.950</td>\n",
       "      <td>467.0</td>\n",
       "      <td>2474.0</td>\n",
       "      <td>166.0</td>\n",
       "      <td>291.0</td>\n",
       "      <td>0.865509</td>\n",
       "      <td>0.616095</td>\n",
       "      <td>0.737757</td>\n",
       "      <td>0.671459</td>\n",
       "      <td>0.937121</td>\n",
       "    </tr>\n",
       "    <tr>\n",
       "      <th>12</th>\n",
       "      <td>0.955</td>\n",
       "      <td>465.0</td>\n",
       "      <td>2477.0</td>\n",
       "      <td>163.0</td>\n",
       "      <td>293.0</td>\n",
       "      <td>0.865803</td>\n",
       "      <td>0.613456</td>\n",
       "      <td>0.740446</td>\n",
       "      <td>0.670996</td>\n",
       "      <td>0.938258</td>\n",
       "    </tr>\n",
       "    <tr>\n",
       "      <th>13</th>\n",
       "      <td>0.960</td>\n",
       "      <td>464.0</td>\n",
       "      <td>2480.0</td>\n",
       "      <td>160.0</td>\n",
       "      <td>294.0</td>\n",
       "      <td>0.866392</td>\n",
       "      <td>0.612137</td>\n",
       "      <td>0.743590</td>\n",
       "      <td>0.671491</td>\n",
       "      <td>0.939394</td>\n",
       "    </tr>\n",
       "    <tr>\n",
       "      <th>14</th>\n",
       "      <td>0.965</td>\n",
       "      <td>461.0</td>\n",
       "      <td>2481.0</td>\n",
       "      <td>159.0</td>\n",
       "      <td>297.0</td>\n",
       "      <td>0.865803</td>\n",
       "      <td>0.608179</td>\n",
       "      <td>0.743548</td>\n",
       "      <td>0.669086</td>\n",
       "      <td>0.939773</td>\n",
       "    </tr>\n",
       "    <tr>\n",
       "      <th>15</th>\n",
       "      <td>0.970</td>\n",
       "      <td>461.0</td>\n",
       "      <td>2487.0</td>\n",
       "      <td>153.0</td>\n",
       "      <td>297.0</td>\n",
       "      <td>0.867569</td>\n",
       "      <td>0.608179</td>\n",
       "      <td>0.750814</td>\n",
       "      <td>0.672012</td>\n",
       "      <td>0.942045</td>\n",
       "    </tr>\n",
       "    <tr>\n",
       "      <th>16</th>\n",
       "      <td>0.975</td>\n",
       "      <td>454.0</td>\n",
       "      <td>2492.0</td>\n",
       "      <td>148.0</td>\n",
       "      <td>304.0</td>\n",
       "      <td>0.866981</td>\n",
       "      <td>0.598945</td>\n",
       "      <td>0.754153</td>\n",
       "      <td>0.667647</td>\n",
       "      <td>0.943939</td>\n",
       "    </tr>\n",
       "    <tr>\n",
       "      <th>17</th>\n",
       "      <td>0.980</td>\n",
       "      <td>444.0</td>\n",
       "      <td>2494.0</td>\n",
       "      <td>146.0</td>\n",
       "      <td>314.0</td>\n",
       "      <td>0.864626</td>\n",
       "      <td>0.585752</td>\n",
       "      <td>0.752542</td>\n",
       "      <td>0.658754</td>\n",
       "      <td>0.944697</td>\n",
       "    </tr>\n",
       "    <tr>\n",
       "      <th>18</th>\n",
       "      <td>0.983</td>\n",
       "      <td>440.0</td>\n",
       "      <td>2496.0</td>\n",
       "      <td>144.0</td>\n",
       "      <td>318.0</td>\n",
       "      <td>0.864038</td>\n",
       "      <td>0.580475</td>\n",
       "      <td>0.753425</td>\n",
       "      <td>0.655738</td>\n",
       "      <td>0.945455</td>\n",
       "    </tr>\n",
       "    <tr>\n",
       "      <th>19</th>\n",
       "      <td>0.985</td>\n",
       "      <td>437.0</td>\n",
       "      <td>2499.0</td>\n",
       "      <td>141.0</td>\n",
       "      <td>321.0</td>\n",
       "      <td>0.864038</td>\n",
       "      <td>0.576517</td>\n",
       "      <td>0.756055</td>\n",
       "      <td>0.654192</td>\n",
       "      <td>0.946591</td>\n",
       "    </tr>\n",
       "  </tbody>\n",
       "</table>\n",
       "</div>"
      ],
      "text/plain": [
       "    Minimum_Confidence  True Positive  ...  F1-score  Specificity\n",
       "0                0.500          521.0  ...  0.683279     0.906818\n",
       "1                0.550          520.0  ...  0.684661     0.908712\n",
       "2                0.600          519.0  ...  0.684697     0.909470\n",
       "3                0.650          515.0  ...  0.683931     0.911742\n",
       "4                0.700          511.0  ...  0.683612     0.914394\n",
       "5                0.750          505.0  ...  0.680593     0.916288\n",
       "6                0.800          500.0  ...  0.680735     0.920076\n",
       "7                0.850          497.0  ...  0.682224     0.923485\n",
       "8                0.900          486.0  ...  0.676880     0.927273\n",
       "9                0.920          483.0  ...  0.676471     0.929167\n",
       "10               0.940          472.0  ...  0.671886     0.933712\n",
       "11               0.950          467.0  ...  0.671459     0.937121\n",
       "12               0.955          465.0  ...  0.670996     0.938258\n",
       "13               0.960          464.0  ...  0.671491     0.939394\n",
       "14               0.965          461.0  ...  0.669086     0.939773\n",
       "15               0.970          461.0  ...  0.672012     0.942045\n",
       "16               0.975          454.0  ...  0.667647     0.943939\n",
       "17               0.980          444.0  ...  0.658754     0.944697\n",
       "18               0.983          440.0  ...  0.655738     0.945455\n",
       "19               0.985          437.0  ...  0.654192     0.946591\n",
       "\n",
       "[20 rows x 10 columns]"
      ]
     },
     "execution_count": 29,
     "metadata": {
      "tags": []
     },
     "output_type": "execute_result"
    }
   ],
   "source": [
    "per_mat1.head(20)"
   ]
  },
  {
   "cell_type": "markdown",
   "metadata": {},
   "source": [
    "## Sample Predictions on Test set"
   ]
  },
  {
   "cell_type": "code",
   "execution_count": 30,
   "metadata": {
    "colab": {
     "base_uri": "https://localhost:8080/",
     "height": 34
    },
    "colab_type": "code",
    "id": "olmB_-E4gWmM",
    "outputId": "2796f48b-b3be-44d4-c85b-af0a1e1c17d8"
   },
   "outputs": [
    {
     "name": "stdout",
     "output_type": "stream",
     "text": [
      "107/107 [==============================] - 11s 103ms/step\n"
     ]
    }
   ],
   "source": [
    "test_pred=model.predict(test_img, verbose=1)\n"
   ]
  },
  {
   "cell_type": "code",
   "execution_count": 50,
   "metadata": {
    "colab": {},
    "colab_type": "code",
    "id": "DYX2H1hqSCHV"
   },
   "outputs": [],
   "source": [
    "def plot_sample(image, mask, pred, idx=None):\n",
    "\n",
    "  if idx is None:\n",
    "    idx=random.randint(0, len(data_gen))      \n",
    "\n",
    "  fig, ax = plt.subplots(1,3, figsize=(15,10))\n",
    "\n",
    "  ax[0].imshow(image[idx])\n",
    "  ax[0].imshow(mask[idx], alpha=0.2)\n",
    "  ax[0].set_title('image+true_mask')\n",
    "\n",
    "  ax[1].imshow(mask[idx])\n",
    "  ax[1].set_title('true_mask')\n",
    "\n",
    "  pred_mask=pred[idx]>0.5\n",
    "  ax[2].imshow(pred_mask)\n",
    "  label_img = label(pred_mask)\n",
    "  regions = regionprops(label_img)\n",
    "  for props in regions: \n",
    "    minr, minc, maxr, maxc = props.bbox\n",
    "    bx = (minc, maxc, maxc, minc, minc)\n",
    "    by = (minr, minr, maxr, maxr, minr)\n",
    "    ax[2].plot(bx, by, '-r', linewidth=2.5)\n",
    "    ax[2].imshow(image[idx], alpha=0.65)  \n",
    "    ax[2].set_title('image+pred_mask')\n",
    "\n",
    "  "
   ]
  },
  {
   "cell_type": "code",
   "execution_count": 51,
   "metadata": {
    "colab": {
     "base_uri": "https://localhost:8080/",
     "height": 361
    },
    "colab_type": "code",
    "id": "2vvEWF222FJG",
    "outputId": "fe8c46c5-666a-4cff-c54d-77fe6c8a0e3b"
   },
   "outputs": [
    {
     "name": "stderr",
     "output_type": "stream",
     "text": [
      "Clipping input data to the valid range for imshow with RGB data ([0..1] for floats or [0..255] for integers).\n",
      "Clipping input data to the valid range for imshow with RGB data ([0..1] for floats or [0..255] for integers).\n",
      "Clipping input data to the valid range for imshow with RGB data ([0..1] for floats or [0..255] for integers).\n"
     ]
    },
    {
     "data": {
      "image/png": "[encoded data removed]",
      "text/plain": [
       "<Figure size 1080x720 with 3 Axes>"
      ]
     },
     "metadata": {
      "needs_background": "light",
      "tags": []
     },
     "output_type": "display_data"
    }
   ],
   "source": [
    "plot_sample(test_img, test_masks, test_pred, idx=5)"
   ]
  },
  {
   "cell_type": "code",
   "execution_count": 52,
   "metadata": {
    "colab": {
     "base_uri": "https://localhost:8080/",
     "height": 412
    },
    "colab_type": "code",
    "id": "nWrQROpcIsSp",
    "outputId": "864498da-03dc-4d10-88b0-2682d915db3c"
   },
   "outputs": [
    {
     "name": "stderr",
     "output_type": "stream",
     "text": [
      "Clipping input data to the valid range for imshow with RGB data ([0..1] for floats or [0..255] for integers).\n",
      "Clipping input data to the valid range for imshow with RGB data ([0..1] for floats or [0..255] for integers).\n",
      "Clipping input data to the valid range for imshow with RGB data ([0..1] for floats or [0..255] for integers).\n",
      "Clipping input data to the valid range for imshow with RGB data ([0..1] for floats or [0..255] for integers).\n",
      "Clipping input data to the valid range for imshow with RGB data ([0..1] for floats or [0..255] for integers).\n",
      "Clipping input data to the valid range for imshow with RGB data ([0..1] for floats or [0..255] for integers).\n"
     ]
    },
    {
     "data": {
      "image/png": "[encoded data removed]",
      "text/plain": [
       "<Figure size 1080x720 with 3 Axes>"
      ]
     },
     "metadata": {
      "needs_background": "light",
      "tags": []
     },
     "output_type": "display_data"
    }
   ],
   "source": [
    "plot_sample(test_img, test_masks, test_pred, idx=16)"
   ]
  },
  {
   "cell_type": "markdown",
   "metadata": {},
   "source": [
    "## Creating Submission File"
   ]
  },
  {
   "cell_type": "code",
   "execution_count": 53,
   "metadata": {
    "colab": {
     "base_uri": "https://localhost:8080/",
     "height": 102
    },
    "colab_type": "code",
    "id": "N_5mGwExzANO",
    "outputId": "fe261f05-122a-47e1-b947-2c9b778575e0"
   },
   "outputs": [
    {
     "data": {
      "text/plain": [
       "['stage_2_test_images/26aff776-ff9d-40f2-b899-6b88f1355506.dcm',\n",
       " 'stage_2_test_images/26d3b1ef-f18b-46b8-8feb-9eb3fcd1abb1.dcm',\n",
       " 'stage_2_test_images/26586d01-b992-41c4-a7a4-c9f1f8d102ad.dcm',\n",
       " 'stage_2_test_images/26c07956-e243-4d83-82ea-b8da718b0e53.dcm',\n",
       " 'stage_2_test_images/25ff4a6a-2ed1-48f6-9b00-448d559bccfe.dcm']"
      ]
     },
     "execution_count": 53,
     "metadata": {
      "tags": []
     },
     "output_type": "execute_result"
    }
   ],
   "source": [
    "test = [f for f in glob.glob('stage_2_test_images/*dcm')]\n",
    "test[:5]"
   ]
  },
  {
   "cell_type": "code",
   "execution_count": 55,
   "metadata": {
    "colab": {},
    "colab_type": "code",
    "id": "JRL8WqN9zAQa"
   },
   "outputs": [],
   "source": [
    "def predict_image(image_list):\n",
    "    \n",
    "    resize_factor = imageWidth / IMAGE_WIDTH\n",
    "    columns = ['patientId','PredictionString', 'PredictTarget']\n",
    "    df = pd.DataFrame(columns=columns)    \n",
    "    \n",
    "    for i, img in tqdm(enumerate(image_list)):\n",
    "        \n",
    "        ds = dicom.read_file(img)\n",
    "        image = ds.pixel_array\n",
    "        image = cv2.resize(image, dsize=(IMAGE_HEIGHT, IMAGE_WIDTH), interpolation=cv2.INTER_CUBIC)\n",
    "        image = np.stack((image,)*3, axis=-1)            \n",
    "        image = preprocess_input(np.array(image, dtype=np.float32))        \n",
    "          \n",
    "        patient_id = Path(img).stem\n",
    "        \n",
    "        output_string=\"\"\n",
    "        pred_mask = model.predict(image.reshape(1,128,128,3))\n",
    "        pred_mask = pred_mask.reshape(128,128)\n",
    "        pred_mask_t = pred_mask > 0.5\n",
    "        label_img = label(pred_mask_t)\n",
    "        regions = regionprops(label_img)\n",
    "        \n",
    "        MIN_AREA=100\n",
    "        \n",
    "        for props in regions:  \n",
    "            minr, minc, maxr, maxc = props.bbox\n",
    "            bx = (minc, maxc, maxc, minc, minc)\n",
    "            by = (minr, minr, maxr, maxr, minr)\n",
    "            \n",
    "            if props.area > MIN_AREA:\n",
    "                x = props.bbox[1]\n",
    "                y = props.bbox[2]\n",
    "                w = props.bbox[1]+props.bbox[3]\n",
    "                h = props.bbox[0]+props.bbox[2]\n",
    "                bboxes_str = \"{} {} {} {}\".format(x*resize_factor, y*resize_factor, \\\n",
    "                                                       w*resize_factor, h*resize_factor)\n",
    "                output_string += bboxes_str\n",
    "                \n",
    "        output_string_len = len(output_string)\n",
    "        target_out = 0\n",
    "        if output_string_len>0:\n",
    "            target_out = 1\n",
    "        df.loc[i,'patientId'] = patient_id\n",
    "        df.loc[i,'PredictionString'] = output_string\n",
    "        df.loc[i,'PredictTarget'] = target_out\n",
    "                \n",
    "    return df              \n"
   ]
  },
  {
   "cell_type": "code",
   "execution_count": 56,
   "metadata": {
    "colab": {
     "base_uri": "https://localhost:8080/",
     "height": 34
    },
    "colab_type": "code",
    "id": "5_KDtjb2Bw_s",
    "outputId": "b13b74d5-3c96-4b2a-f4be-a7c032515df7"
   },
   "outputs": [
    {
     "name": "stderr",
     "output_type": "stream",
     "text": [
      "3010it [32:25,  1.55it/s]\n"
     ]
    }
   ],
   "source": [
    "## Creating the file dataframe using above function\n",
    "out_file = predict_image(test)\n",
    "submission_file = out_file[['patientId','PredictionString']]\n",
    "\n",
    "## Export to CSV\n",
    "submission_file.to_csv('MobileNet.csv')"
   ]
  },
  {
   "cell_type": "code",
   "execution_count": null,
   "metadata": {
    "colab": {},
    "colab_type": "code",
    "id": "kWgoTEzcInnW"
   },
   "outputs": [],
   "source": []
  }
 ],
 "metadata": {
  "accelerator": "GPU",
  "colab": {
   "collapsed_sections": [],
   "machine_shape": "hm",
   "name": "Model_MobileNet_UNet.ipynb",
   "provenance": []
  },
  "kernelspec": {
   "display_name": "Python 3",
   "language": "python",
   "name": "python3"
  },
  "language_info": {
   "codemirror_mode": {
    "name": "ipython",
    "version": 3
   },
   "file_extension": ".py",
   "mimetype": "text/x-python",
   "name": "python",
   "nbconvert_exporter": "python",
   "pygments_lexer": "ipython3",
   "version": "3.6.4"
  }
 },
 "nbformat": 4,
 "nbformat_minor": 1
}
